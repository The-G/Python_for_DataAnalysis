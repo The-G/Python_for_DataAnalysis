{
 "cells": [
  {
   "cell_type": "raw",
   "metadata": {},
   "source": [
    "# This is a H1\n",
    "## This is a H2\n",
    "### This is a H3\n",
    "#### This is a H4\n",
    "##### This is a H5\n",
    "###### This is a H6"
   ]
  },
  {
   "cell_type": "markdown",
   "metadata": {},
   "source": [
    "# This is a H1\n",
    "## This is a H2\n",
    "### This is a H3\n",
    "#### This is a H4\n",
    "##### This is a H5\n",
    "###### This is a H6"
   ]
  },
  {
   "cell_type": "raw",
   "metadata": {},
   "source": [
    "*single asterisks*\n",
    "_single underscores_\n",
    "**double asterisks**\n",
    "__double underscores__\n",
    "++underline++\n",
    "~~cancelline~~"
   ]
  },
  {
   "cell_type": "markdown",
   "metadata": {},
   "source": [
    "*single asterisks*\n",
    "_single underscores_\n",
    "**double asterisks**\n",
    "__double underscores__\n",
    "++underline++\n",
    "~~cancelline~~"
   ]
  },
  {
   "cell_type": "raw",
   "metadata": {},
   "source": [
    "* 빨강\n",
    "  * 녹색\n",
    "    * 파랑\n",
    "\n",
    "+ 빨강\n",
    "  + 녹색\n",
    "    + 파랑\n",
    "\n",
    "- 빨강\n",
    "- 녹색\n",
    "- 파랑"
   ]
  },
  {
   "cell_type": "markdown",
   "metadata": {},
   "source": [
    "* 빨강\n",
    "  * 녹색\n",
    "    * 파랑\n",
    "\n",
    "+ 빨강\n",
    "  + 녹색\n",
    "    + 파랑\n",
    "\n",
    "- 빨강\n",
    "- 녹색\n",
    "- 파랑"
   ]
  },
  {
   "cell_type": "raw",
   "metadata": {},
   "source": [
    "* 참조링크\n",
    "[link keyword][id]\n",
    "[id]: URL \"Optional Title here\"\n",
    "Link: [Google][googlelink]\n",
    "[googlelink]: https://google.com \"Go google\"\n",
    "\n",
    "* 인라인 링크\n",
    "syntax: [Title](link)\n",
    "\n",
    "\n",
    "* 자동연결\n",
    "<http://example.com/>\n",
    "<address@example.com>"
   ]
  },
  {
   "cell_type": "markdown",
   "metadata": {},
   "source": [
    "* 참조링크\n",
    "[link keyword][id]\n",
    "[id]: URL \"Optional Title here\"\n",
    "Link: [Google][googlelink]\n",
    "[googlelink]: https://google.com \"Go google\"\n",
    "\n",
    "* 인라인 링크\n",
    "syntax: [Title](link)\n",
    "\n",
    "\n",
    "* 자동연결\n",
    "<http://example.com/>\n",
    "<address@example.com>\n"
   ]
  },
  {
   "cell_type": "raw",
   "metadata": {},
   "source": [
    "* reference link\n",
    "[DataScienceScholl][id]\n",
    "[id]: https://datascienceschool.net/view-notebook/661128713b654edc928ecb455a826b1d/#14절:-파이썬을-사용한-음성-전처리"
   ]
  },
  {
   "cell_type": "markdown",
   "metadata": {},
   "source": [
    "* reference link\n",
    "[DataScienceScholl][id]\n",
    "[id]: https://datascienceschool.net/view-notebook/661128713b654edc928ecb455a826b1d/#14절:-파이썬을-사용한-음성-전처리"
   ]
  },
  {
   "cell_type": "raw",
   "metadata": {},
   "source": [
    "Here's our logo (hover to see the title text):\n",
    "\n",
    "Inline-style: \n",
    "![alt text](https://github.com/adam-p/markdown-here/raw/master/src/common/images/icon48.png \"Logo Title Text 1\")\n",
    "\n",
    "Reference-style: \n",
    "![alt text][logo]\n",
    "\n",
    "[logo]: https://github.com/adam-p/markdown-here/raw/master/src/common/images/icon48.png \"Logo Title Text 2\""
   ]
  },
  {
   "cell_type": "markdown",
   "metadata": {},
   "source": [
    "Here's our logo (hover to see the title text):\n",
    "\n",
    "Inline-style: \n",
    "![alt text](https://github.com/adam-p/markdown-here/raw/master/src/common/images/icon48.png \"Logo Title Text 1\")\n",
    "\n",
    "Reference-style: \n",
    "![alt text][logo]\n",
    "\n",
    "[logo]: https://github.com/adam-p/markdown-here/raw/master/src/common/images/icon48.png \"Logo Title Text 2\"\n",
    "        "
   ]
  },
  {
   "cell_type": "raw",
   "metadata": {},
   "source": [
    "* Code and Syntax Highlighting\n",
    "\n",
    "```javascript\n",
    "var s = \"JavaScript syntax highlighting\";\n",
    "alert(s);\n",
    "```\n",
    " \n",
    "```python\n",
    "s = \"Python syntax highlighting\"\n",
    "print s\n",
    "```\n",
    " \n",
    "```\n",
    "No language indicated, so no syntax highlighting. \n",
    "But let's throw in a <b>tag</b>.\n",
    "```"
   ]
  },
  {
   "cell_type": "markdown",
   "metadata": {},
   "source": [
    "* Code and Syntax Highlighting\n",
    "\n",
    "```javascript\n",
    "var s = \"JavaScript syntax highlighting\";\n",
    "alert(s);\n",
    "```\n",
    " \n",
    "```python\n",
    "s = \"Python syntax highlighting\"\n",
    "print s\n",
    "```\n",
    " \n",
    "```\n",
    "No language indicated, so no syntax highlighting. \n",
    "But let's throw in a <b>tag</b>.\n",
    "```"
   ]
  },
  {
   "cell_type": "markdown",
   "metadata": {},
   "source": [
    "Colons can be used to align columns.\n",
    "\n",
    "| Tables        | Are           | Cool  |\n",
    "| ------------- |:-------------:| -----:|\n",
    "| col 3 is      | right-aligned | \\$1600 |\n",
    "| col 2 is      | centered      |   \\$12 |\n",
    "| zebra stripes | are neat      |    \\$1 |\n",
    "\n",
    "The outer pipes (|) are optional, and you don't need to make the raw Markdown line up prettily. You can also use inline Markdown.\n",
    "\n",
    "Markdown | Less | Pretty\n",
    "--- | --- | ---\n",
    "*Still* | `renders` | **nicely**\n",
    "1 | 2 | 3"
   ]
  },
  {
   "cell_type": "markdown",
   "metadata": {},
   "source": [
    "> Blockquotes are very handy in email to emulate reply text.\n",
    "> This line is part of the same quote.\n",
    "\n",
    "Quote break.\n",
    "\n",
    "> This is a very long line that will still be quoted properly when it wraps. Oh boy let's keep writing to make sure this is long enough to actually wrap for everyone. Oh, you can *put* **Markdown** into a blockquote."
   ]
  },
  {
   "cell_type": "markdown",
   "metadata": {},
   "source": [
    "<dl>\n",
    "  <dt>Definition list</dt>\n",
    "  <dd>Is something people use sometimes.</dd>\n",
    "\n",
    "  <dt>Markdown in HTML</dt>\n",
    "  <dd>Does *not* work **very** well. Use HTML <em>tags</em>.</dd>\n",
    "</dl>"
   ]
  },
  {
   "cell_type": "markdown",
   "metadata": {},
   "source": [
    "Three or more...\n",
    "\n",
    "---\n",
    "\n",
    "Hyphens\n",
    "\n",
    "***\n",
    "\n",
    "Asterisks\n",
    "\n",
    "___\n",
    "\n",
    "Underscores"
   ]
  },
  {
   "cell_type": "markdown",
   "metadata": {},
   "source": [
    "<a href=\"https://www.youtube.com/watch?v=n7wsTH1Jmwo\" target=\"_blank\"><img src=\"http://img.youtube.com/vi/n7wsTH1Jmwo/0.jpg\" \n",
    "alt=\"IMAGE ALT TEXT HERE\" width=\"240\" height=\"180\" border=\"10\" /></a>"
   ]
  },
  {
   "cell_type": "code",
   "execution_count": null,
   "metadata": {
    "collapsed": true
   },
   "outputs": [],
   "source": []
  }
 ],
 "metadata": {
  "kernelspec": {
   "display_name": "Python 3",
   "language": "python",
   "name": "python3"
  },
  "language_info": {
   "codemirror_mode": {
    "name": "ipython",
    "version": 3
   },
   "file_extension": ".py",
   "mimetype": "text/x-python",
   "name": "python",
   "nbconvert_exporter": "python",
   "pygments_lexer": "ipython3",
   "version": "3.6.0"
  }
 },
 "nbformat": 4,
 "nbformat_minor": 2
}
